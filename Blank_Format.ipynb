{
 "cells": [
  {
   "cell_type": "code",
   "execution_count": 129,
   "id": "e15286c7-0004-45eb-8506-c7c28049475d",
   "metadata": {},
   "outputs": [],
   "source": [
    "import openpyxl as opl\n",
    "#import related to tkinter file dialog\n",
    "from tkinter import *\n",
    "from tkinter import ttk\n",
    "from tkinter import filedialog as fd\n",
    "import pandas as pd\n",
    "import os\n",
    "import math\n",
    "import datetime\n",
    "import shutil\n",
    "import numpy as np\n",
    "#logg;ing related info\n",
    "import logging\n",
    "import xlsxwriter"
   ]
  },
  {
   "cell_type": "code",
   "execution_count": 130,
   "id": "db0f910e-7c0c-48f5-93e0-69a04d5f25ab",
   "metadata": {},
   "outputs": [],
   "source": [
    "\"\"\"This Files Saves a list of Data Frame\"\"\"\n",
    "def saveDataFrame(dataframes,filepath,names):\n",
    "    #writer = pd.ExcelWriter(filepath, engine='xlsxwriter')\n",
    "    #writer= pd.ExcelWriter(filepath)\n",
    "    for df,sname in zip(dataframes,names):\n",
    "        df.to_excel(filepath,sheet_name=sname)   \n",
    "    #writer.save()  \n",
    "\"\"\"This Files Writes Data Frame in Proper Place of a Excel Sheet\"\"\"\n",
    "\"\"\"Functions for Transferring Data Frame to Autocad Input File\"\"\"\n",
    "def writeDataFrameToExcel(data_frame,drow,dcol,wbook_name,wsheet_name):\n",
    "    \"\"\"\n",
    "    Parameters:\n",
    "    data_frame= name of the frame from which data to be transferred\n",
    "    drow=row offset to be added to dframe row index\n",
    "    dcol=column offset to be added to dframe column index\n",
    "    wbook_name=name of the destination work book\n",
    "    wsheet_name=name of the destination work sheet    \n",
    "    \"\"\"\n",
    "    wb=opl.load_workbook(wbook_name)\n",
    "    #print(wb.sheetnames)\n",
    "    transfer_sheet=wb[wsheet_name]\n",
    "    dfshape=data_frame.shape \n",
    "    print(dfshape)\n",
    "    for i in range(0,dfshape[0]):\n",
    "        row_index=i+drow\n",
    "        for j in range(0,dfshape[1]):\n",
    "            transfer_sheet.cell(row=row_index,column=j+dcol).value=data_frame.iloc[i,j]\n",
    "    wb.save(wbook_name)"
   ]
  },
  {
   "cell_type": "code",
   "execution_count": 141,
   "id": "20af0189-0f75-4338-b22d-80af9977f5e7",
   "metadata": {},
   "outputs": [
    {
     "name": "stdout",
     "output_type": "stream",
     "text": [
      "D:/Data From My Laptop/SE_DC_5/SE_DC_5/Southwest Project/Test  Data/Xesction Combination/vertical_matrix_test\n",
      "Hiron_Middle_Para_Input.xlsx\n",
      "D:/Data From My Laptop/SE_DC_5/SE_DC_5/Southwest Project/Test  Data/Xesction Combination/vertical_matrix_test\n"
     ]
    }
   ],
   "source": [
    "\"\"\"\n",
    "#############################################################################################################################\n",
    "Programme Execution Begins Here \n",
    "#############################################################################################################################\n",
    "\n",
    "\"\"\"\n",
    "#create an instance of tkinter frame or windowroot=Tk()\n",
    "#create an instance of tkinter frame or window\n",
    "root=Tk()\n",
    "root.geometry(\"750x150\")\n",
    "work_book_path=fd.askopenfilename(title=\"select Excel Input File\")\n",
    "root.withdraw()\n",
    "#print(work_book_path)\n",
    "dir_name=os.path.dirname(work_book_path)\n",
    "head,tail=os.path.split(work_book_path)\n",
    "print(dir_name)\n",
    "print(tail)\n",
    "file_names=tail.split(\".\")\n",
    "print(dir_name)\n",
    "out_path=os.path.join(dir_name,\"Data_Prep_\"+file_names[0]+\".\"+file_names[1])\n",
    "out_path2=os.path.join(dir_name,\"data_agg_output.xlsx\")"
   ]
  },
  {
   "cell_type": "code",
   "execution_count": 142,
   "id": "f3ad5740-cd7d-45db-9616-421e1505b95c",
   "metadata": {},
   "outputs": [],
   "source": [
    "#inthis cell wefind direction of datamatrix"
   ]
  },
  {
   "cell_type": "code",
   "execution_count": 143,
   "id": "21e39b82-69e1-47e4-afae-2594f900c24d",
   "metadata": {},
   "outputs": [],
   "source": [
    "\n",
    "#settingpup log files\n",
    "log_file_path=os.path.join(dir_name,\"data_agg.log\")\n",
    "logger=logging.getLogger(__name__)\n",
    "logger.setLevel(\"DEBUG\")\n",
    "fileHandler=logging.FileHandler(filename=log_file_path,mode=\"w\")\n",
    "formatter=logging.Formatter('%(asctime)s - %(name)s - %(lineno)s - %(levelname)s - %(message)s')\n",
    "fileHandler.setFormatter(formatter)\n",
    "fileHandler.setLevel(logging.DEBUG)\n",
    "logger.addHandler(fileHandler)\n",
    "#formatter=logging.Formatter(\"{asctime}-{levelname}-{message}\", style=\"{\",datefmt=\"%Y-%m-%d %H:%M %S\")\n",
    "#testing logger Setup........................\n",
    "logger.debug(\"Sucessfully Setup Logger for this programme.............\")\n",
    "#creating a second log file path and handler for handling individual function\n",
    "log_file_path_function=os.path.join(dir_name,\"function_log.log\")\n",
    "fileHandler_function=logging.FileHandler(filename=log_file_path_function,mode=\"w\")\n",
    "fileHandler_function.setFormatter(formatter)\n",
    "fileHandler_function.setLevel(logging.DEBUG)\n",
    "\n",
    "                                    "
   ]
  },
  {
   "cell_type": "code",
   "execution_count": 144,
   "id": "b58713db-0505-4d92-b9e8-df93ae352106",
   "metadata": {},
   "outputs": [
    {
     "name": "stdout",
     "output_type": "stream",
     "text": [
      "['Raw_Cross_Section_Data', 'Package_Info', 'Data_index', 'Khal_Info', 'Лист1']\n",
      "Data Direction=V\n"
     ]
    }
   ],
   "source": [
    "wb=opl.load_workbook(work_book_path)\n",
    "print(wb.sheetnames)\n",
    "sheetName=\"Package_Info\"\n",
    "matrix_df=pd.read_excel(work_book_path,sheet_name=sheetName)\n",
    "logger.debug(\"Printing Data Matrix Direction.................\\n\")\n",
    "logger.debug(matrix_df)\n",
    "MAJOR_DATA_DIRECTION=matrix_df.iloc[1,1]\n",
    "print(\"Data Direction={}\".format(MAJOR_DATA_DIRECTION))"
   ]
  },
  {
   "cell_type": "code",
   "execution_count": 145,
   "id": "605b3abd-5338-439c-b1dd-d84e48071029",
   "metadata": {},
   "outputs": [],
   "source": [
    "\n",
    "index_wshhet=wb[\"Data_index\"]\n",
    "data_sheet=wb['Raw_Cross_Section_Data']\n",
    "myframes=[]\n",
    "mynames=[]"
   ]
  },
  {
   "cell_type": "code",
   "execution_count": 146,
   "id": "30fce14c-a028-428e-a1f6-81bfd652aa6a",
   "metadata": {},
   "outputs": [],
   "source": [
    "sheetName=\"Data_index\"\n",
    "index_df=pd.read_excel(work_book_path,sheet_name=sheetName)\n",
    "index_df\n",
    "\"\"\"Adding index data frame for writing\"\"\"\n",
    "myframes.append(index_df)\n",
    "mynames.append(\"index_df\")"
   ]
  },
  {
   "cell_type": "code",
   "execution_count": null,
   "id": "a1254772-69d6-4a9d-870e-459f50a1d33d",
   "metadata": {},
   "outputs": [],
   "source": []
  },
  {
   "cell_type": "code",
   "execution_count": null,
   "id": "3b25bcdc-b1b1-48ba-9b9b-58a66a4139fa",
   "metadata": {},
   "outputs": [],
   "source": []
  }
 ],
 "metadata": {
  "kernelspec": {
   "display_name": "Python 3 (ipykernel)",
   "language": "python",
   "name": "python3"
  },
  "language_info": {
   "codemirror_mode": {
    "name": "ipython",
    "version": 3
   },
   "file_extension": ".py",
   "mimetype": "text/x-python",
   "name": "python",
   "nbconvert_exporter": "python",
   "pygments_lexer": "ipython3",
   "version": "3.13.0"
  }
 },
 "nbformat": 4,
 "nbformat_minor": 5
}
